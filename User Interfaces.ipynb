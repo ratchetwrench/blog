{
 "cells": [
  {
   "cell_type": "markdown",
   "metadata": {
    "collapsed": true,
    "pycharm": {
     "name": "#%% md\n"
    }
   },
   "source": [
    "# User Interfaces\n",
    "Dask supports several user interfaces [docs](https://docs.dask.org/en/latest/user-interfaces.html):\n",
    "\n",
    "**High-Level**\n",
    "- Arrays: Parallel NumPy\n",
    "- Bags: Parallel lists\n",
    "- DataFrames: Parallel Pandas\n",
    "- Machine Learning : Parallel Scikit-Learn\n",
    "- Others from external projects, like XArray\n",
    "\n",
    "**Low-Level**\n",
    "- Delayed: Parallel function evaluation\n",
    "- Futures: Real-time parallel function evaluation\n",
    "\n",
    "Each of these user interfaces employs the same underlying parallel computing machinery, and so has the same scaling, \n",
    "diagnostics, resilience, and so on, but each provides a different set of parallel algorithms and programming style.\n",
    "\n",
    "This document helps you to decide which user interface best suits your needs, and gives some general information that \n",
    "applies to all interfaces. The pages linked above give more information about each interface in greater depth.\n"
   ]
  },
  {
   "cell_type": "markdown",
   "source": [
    "## High-Level Collections\n",
    "Many people who start using Dask are explicitly looking for a scalable version of NumPy, Pandas, or Scikit-Learn. \n",
    "For these situations, the starting point within Dask is usually fairly clear. If you want scalable NumPy arrays, \n",
    "then start with Dask array; if you want scalable Pandas DataFrames, then start with Dask DataFrame, and so on.\n",
    "\n",
    "These high-level interfaces copy the standard interface with slight variations. These interfaces automatically \n",
    "parallelize over larger datasets for you for a large subset of the API from the original project.\n"
   ],
   "metadata": {
    "collapsed": false
   }
  },
  {
   "cell_type": "code",
   "execution_count": null,
   "outputs": [],
   "source": [
    "\n"
   ],
   "metadata": {
    "collapsed": false,
    "pycharm": {
     "name": "#%%\n"
    }
   }
  }
 ],
 "metadata": {
  "language_info": {
   "codemirror_mode": {
    "name": "ipython",
    "version": 2
   },
   "file_extension": ".py",
   "mimetype": "text/x-python",
   "name": "python",
   "nbconvert_exporter": "python",
   "pygments_lexer": "ipython2",
   "version": "2.7.6"
  },
  "kernelspec": {
   "name": "python3",
   "language": "python",
   "display_name": "Python 3"
  },
  "pycharm": {
   "stem_cell": {
    "cell_type": "raw",
    "source": [],
    "metadata": {
     "collapsed": false
    }
   }
  }
 },
 "nbformat": 4,
 "nbformat_minor": 0
}